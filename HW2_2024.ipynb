{
  "nbformat": 4,
  "nbformat_minor": 0,
  "metadata": {
    "colab": {
      "provenance": []
    },
    "kernelspec": {
      "name": "python3",
      "display_name": "Python 3"
    },
    "language_info": {
      "name": "python"
    }
  },
  "cells": [
    {
      "cell_type": "markdown",
      "source": [
        "# Homework 2"
      ],
      "metadata": {
        "id": "vA_Nm4gM4oX9"
      }
    },
    {
      "cell_type": "markdown",
      "source": [
        "In this homework, you will practice the neural network algorithm by creating a model from scratch only with NumPy. You will learn how forward/backpropagation and weight normalization/activation of the simple single-layer neural network work. You will use the famous MNIST dataset, and you will need to compare the result under different normalization/activation settings of the same architecture using Pandas pipelines.\n",
        "\n",
        "**This assignment is made to practice the features of NumPy. Therefore, the use of a for loop is strictly prohibited. All problems can be solved without explicit loops.**\n"
      ],
      "metadata": {
        "id": "e7vPaIoU4pqD"
      }
    },
    {
      "cell_type": "markdown",
      "source": [
        "## 1. Data preprocessing"
      ],
      "metadata": {
        "id": "qtWBHOcoqnKH"
      }
    },
    {
      "cell_type": "code",
      "execution_count": null,
      "metadata": {
        "id": "VA351vjdly0R"
      },
      "outputs": [],
      "source": [
        "import numpy as np\n",
        "import matplotlib.pyplot as plt\n",
        "from sklearn.datasets import fetch_openml\n",
        "from sklearn.model_selection import train_test_split, RandomizedSearchCV\n",
        "from sklearn.base import BaseEstimator, TransformerMixin\n",
        "from sklearn.pipeline import Pipeline\n",
        "RANDOM_STATE = 12579"
      ]
    },
    {
      "cell_type": "markdown",
      "source": [
        "The MNIST dataset was constructed from two datasets of the US National Institute\n",
        "of Standards and Technology (NIST). The training dataset consists of handwritten\n",
        "digits from 250 different people, 50 percent high school students and 50 percent\n",
        "employees from the Census Bureau. Note that the test dataset contains handwritten digits from different people following the same split."
      ],
      "metadata": {
        "id": "nCm_Zo2W8Q22"
      }
    },
    {
      "cell_type": "markdown",
      "source": [
        "![alt text](https://dezyre.gumlet.net/images/Exploring+MNIST+Dataset+using+PyTorch+to+Train+an+MLP/MNIST+Dataset.png?w=900&dpr=1.0)"
      ],
      "metadata": {
        "id": "aPqJ7jTk7aaG"
      }
    },
    {
      "cell_type": "markdown",
      "source": [
        "This MNIST dataset can be directly downloaded via various routes including tensorflow dataset repository, keras dataset, and scikit-learn. This time, you can use `sklearn.datasets` module."
      ],
      "metadata": {
        "id": "V29SZpPn8S69"
      }
    },
    {
      "cell_type": "code",
      "source": [
        "X, y = fetch_openml(\"mnist_784\", version=1, return_X_y=True, as_frame=False)"
      ],
      "metadata": {
        "id": "CmAMpQXwdq4t",
        "colab": {
          "base_uri": "https://localhost:8080/"
        },
        "outputId": "6eb558d6-7cd3-4e9b-ca37-d48750c2eaee"
      },
      "execution_count": null,
      "outputs": [
        {
          "output_type": "stream",
          "name": "stderr",
          "text": [
            "/usr/local/lib/python3.10/dist-packages/sklearn/datasets/_openml.py:968: FutureWarning: The default value of `parser` will change from `'liac-arff'` to `'auto'` in 1.4. You can set `parser='auto'` to silence this warning. Therefore, an `ImportError` will be raised from 1.4 if the dataset is dense and pandas is not installed. Note that the pandas parser may return different data types. See the Notes Section in fetch_openml's API doc for details.\n",
            "  warn(\n"
          ]
        }
      ]
    },
    {
      "cell_type": "markdown",
      "source": [
        "It has 70,000 different handwriting instances. It usually has 60,000 instances in the training set and the remaining ones in the test set, but scikit-learn loads it as a whole. You may need to divide it into two."
      ],
      "metadata": {
        "id": "UGUngFc88XsU"
      }
    },
    {
      "cell_type": "code",
      "source": [
        "X.shape, y.shape"
      ],
      "metadata": {
        "id": "gVuTqRrtlb44",
        "colab": {
          "base_uri": "https://localhost:8080/"
        },
        "outputId": "4a2664bd-6017-4dca-a359-0be255ae3677"
      },
      "execution_count": null,
      "outputs": [
        {
          "output_type": "execute_result",
          "data": {
            "text/plain": [
              "((70000, 784), (70000,))"
            ]
          },
          "metadata": {},
          "execution_count": 3
        }
      ]
    },
    {
      "cell_type": "markdown",
      "source": [
        "You can also check the class distribution. Is it balanced or not? It is balanced, because the values haven't this much diffrences."
      ],
      "metadata": {
        "id": "kILkvez98bVl"
      }
    },
    {
      "cell_type": "code",
      "source": [
        "plt.bar(np.unique(y, return_counts = True)[0], np.unique(y, return_counts = True)[1])"
      ],
      "metadata": {
        "id": "YNAjbM-Z8ixF",
        "colab": {
          "base_uri": "https://localhost:8080/",
          "height": 447
        },
        "outputId": "1b90bf40-da0f-4c62-a68b-506d0e6938ea"
      },
      "execution_count": null,
      "outputs": [
        {
          "output_type": "execute_result",
          "data": {
            "text/plain": [
              "<BarContainer object of 10 artists>"
            ]
          },
          "metadata": {},
          "execution_count": 4
        },
        {
          "output_type": "display_data",
          "data": {
            "text/plain": [
              "<Figure size 640x480 with 1 Axes>"
            ],
            "image/png": "[encoded data removed]"
          },
          "metadata": {}
        }
      ]
    },
    {
      "cell_type": "markdown",
      "source": [
        "You may also need to apply normalization for better performance. Since it is clear that its maximum value is 255, you can simply normalize it by dividing the whole value by 255 (then the dataset will range from 0 to 1). You can use NumPy's broadcasting to divide the matrix by one scalar value. It is also possible to further standardize it to have a centeralized mean, but this time it is optional.\n",
        "- Apply normalization to X to have the range [0, 1]"
      ],
      "metadata": {
        "id": "KEc2na5f9tRg"
      }
    },
    {
      "cell_type": "code",
      "source": [
        "X_normalized = X / 255.0"
      ],
      "metadata": {
        "id": "GzXvdYtlmNqi"
      },
      "execution_count": null,
      "outputs": []
    },
    {
      "cell_type": "markdown",
      "source": [
        "If you take a look at `y`, it has string labels! It might be disturbing when you need to handle them later, so let's also convert them to an integer form.\n",
        "- Change the type of the labels to integer"
      ],
      "metadata": {
        "id": "zmmuNtw2d8dX"
      }
    },
    {
      "cell_type": "code",
      "source": [
        "y_integer = np.array([int(label) for label in y])"
      ],
      "metadata": {
        "id": "vfx0EL0wmoyU"
      },
      "execution_count": null,
      "outputs": []
    },
    {
      "cell_type": "markdown",
      "source": [
        "Next, you need to split the dataset into two parts using scikit-learn's `train_test_split` method.\n",
        "- Use scikit-learn's `train_test_split` to create training and test sets.\n",
        "- Set **test_size** to 20%.\n",
        "- Enable stratification and shuffling.\n",
        "- use `X_normalized` and `y_integer`.\n",
        "- set `random_state` to the pre-defined variable `RANDOM_STATE`."
      ],
      "metadata": {
        "id": "TqeW4C00l5se"
      }
    },
    {
      "cell_type": "code",
      "source": [
        "X_train, X_test, y_train, y_test = X_train, X_test, y_train, y_test = train_test_split(X_normalized, y_integer, test_size=0.2, stratify=y_integer, shuffle=True, random_state=RANDOM_STATE)"
      ],
      "metadata": {
        "id": "SiERfT0gddu1"
      },
      "execution_count": null,
      "outputs": []
    },
    {
      "cell_type": "markdown",
      "source": [
        "Please print the mean and the standard deviation of `X_train` here (for validation purpose)."
      ],
      "metadata": {
        "id": "vcUJo3uj6sCa"
      }
    },
    {
      "cell_type": "code",
      "source": [
        "X_train.mean(), X_train.std(), X_train.shape, X_test.shape, y_train.shape, y_test.shape"
      ],
      "metadata": {
        "id": "1mujB3I56rjw",
        "colab": {
          "base_uri": "https://localhost:8080/"
        },
        "outputId": "cd4df05a-4abf-449e-9e27-9eafab935b58"
      },
      "execution_count": null,
      "outputs": [
        {
          "output_type": "execute_result",
          "data": {
            "text/plain": [
              "(0.13095012531798408,\n",
              " 0.30847760515635225,\n",
              " (56000, 784),\n",
              " (14000, 784),\n",
              " (56000,),\n",
              " (14000,))"
            ]
          },
          "metadata": {},
          "execution_count": 8
        }
      ]
    },
    {
      "cell_type": "markdown",
      "source": [
        "Here you can check some of the instances that you get."
      ],
      "metadata": {
        "id": "EMldZza-faxL"
      }
    },
    {
      "cell_type": "code",
      "source": [
        "fig, ax = plt.subplots(nrows=2, ncols=5, sharex=True, sharey=True)\n",
        "ax = ax.flatten()\n",
        "for i in range(10):\n",
        "  img = X_train[y_train == i][0].reshape(28, 28)\n",
        "  ax[i].imshow(img, cmap='Greys')\n",
        "ax[0].set_xticks([])\n",
        "ax[0].set_yticks([])\n",
        "plt.tight_layout()\n",
        "plt.show()"
      ],
      "metadata": {
        "colab": {
          "base_uri": "https://localhost:8080/",
          "height": 338
        },
        "id": "TzRs98dodeAF",
        "outputId": "ff66ff94-ff34-4293-af75-823c4322467b"
      },
      "execution_count": null,
      "outputs": [
        {
          "output_type": "display_data",
          "data": {
            "text/plain": [
              "<Figure size 640x480 with 10 Axes>"
            ],
            "image/png": "[encoded data removed]"
          },
          "metadata": {}
        }
      ]
    },
    {
      "cell_type": "markdown",
      "source": [
        "## 2. Helper functions"
      ],
      "metadata": {
        "id": "baT1IBRFqrBJ"
      }
    },
    {
      "cell_type": "markdown",
      "source": [
        "First, you need to fix the labels, which are now in a sparse form, to have a one-hot encoded form for better computation of error terms using NumPy's vectorization. Let's create a function that receives a label vector and transform it into a one-hot encoded label matrix.\n",
        "\n",
        "- Complete the `one_hot` function."
      ],
      "metadata": {
        "id": "tVROBu9_py1h"
      }
    },
    {
      "cell_type": "code",
      "source": [
        "def one_hot(y):\n",
        "  \"\"\"\n",
        "  Input:\n",
        "    - y : set of labels\n",
        "\n",
        "  Output:\n",
        "    - onehot: a one-hot-encoded array\n",
        "\n",
        "  This function creates an one-hot encoded representation of the labels.\n",
        "  This means that you will have a set of binary columns indicading each possible class.\n",
        "\n",
        "  You have to develop this one hot encoding strategy without using Python for loop\n",
        "\n",
        "  Expected outcome:\n",
        "    one_hot(np.array([1,0,2,3]))\n",
        "\n",
        "    array([[0., 1., 0., 0.],\n",
        "          [1., 0., 0., 0.],\n",
        "          [0., 0., 1., 0.],\n",
        "          [0., 0., 0., 1.]])\n",
        "  \"\"\"\n",
        "  num_classes = np.max(y) + 1\n",
        "  onehot = np.zeros((len(y), num_classes))\n",
        "  onehot[np.arange(len(y)), y] = 1\n",
        "  return onehot"
      ],
      "metadata": {
        "id": "msvnKGsR0yUS"
      },
      "execution_count": null,
      "outputs": []
    },
    {
      "cell_type": "markdown",
      "source": [
        "Test your code here (see the expected outcome above)."
      ],
      "metadata": {
        "id": "5dAPaf1708Bs"
      }
    },
    {
      "cell_type": "code",
      "source": [
        "one_hot(np.array([1,0,2,3]))"
      ],
      "metadata": {
        "id": "sGFbZ_tN00WK",
        "colab": {
          "base_uri": "https://localhost:8080/"
        },
        "outputId": "135b13d4-9c1c-4961-aad5-ecfde4ad849b"
      },
      "execution_count": null,
      "outputs": [
        {
          "output_type": "execute_result",
          "data": {
            "text/plain": [
              "array([[0., 1., 0., 0.],\n",
              "       [1., 0., 0., 0.],\n",
              "       [0., 0., 1., 0.],\n",
              "       [0., 0., 0., 1.]])"
            ]
          },
          "metadata": {},
          "execution_count": 11
        }
      ]
    },
    {
      "cell_type": "markdown",
      "source": [
        "Next, you may also need a sigmoid function for the output values as you are dealing with a classification problem. Sigmoid can be represented as follows:\n",
        "\n",
        "$$ h_ \\theta (x) =  \\frac{\\mathrm{1} }{\\mathrm{1} + e^{-x} }  $$\n",
        "\n",
        "\n",
        "- Complete the sigmoid function below that supports both vectors and scalars (this can be automatically handled if you use NumPy)."
      ],
      "metadata": {
        "id": "7niKihIdpYa5"
      }
    },
    {
      "cell_type": "code",
      "source": [
        "def sigmoid(x):\n",
        "  \"\"\"\n",
        "  Input:\n",
        "    - z: input vector or scalar value\n",
        "\n",
        "  Output:\n",
        "    - sigmoid: output sigmoid-transformed vector or scalar value\n",
        "\n",
        "  Calculate the sigmoid value of the input.\n",
        "\n",
        "  Expected outcome:\n",
        "    sigmoid(np.array([np.inf, -np.inf, 0]))\n",
        "\n",
        "    array([1. , 0. , 0.5])\n",
        "  \"\"\"\n",
        "  return 1 / (1 + np.exp(-x))"
      ],
      "metadata": {
        "id": "hFSCiidT1Drz"
      },
      "execution_count": null,
      "outputs": []
    },
    {
      "cell_type": "markdown",
      "source": [
        "Test your code here (see the expected outcome above)."
      ],
      "metadata": {
        "id": "Xlugwi8r0O-H"
      }
    },
    {
      "cell_type": "code",
      "source": [
        "sigmoid(np.array([np.inf, -np.inf, 0]))"
      ],
      "metadata": {
        "id": "3fJNnW22qMQ0",
        "colab": {
          "base_uri": "https://localhost:8080/"
        },
        "outputId": "2100b7f1-7f5d-40ad-d75c-c1ed1e98cc56"
      },
      "execution_count": null,
      "outputs": [
        {
          "output_type": "execute_result",
          "data": {
            "text/plain": [
              "array([1. , 0. , 0.5])"
            ]
          },
          "metadata": {},
          "execution_count": 13
        }
      ]
    },
    {
      "cell_type": "markdown",
      "source": [
        "## 3. Our FCN classifier with the class structure"
      ],
      "metadata": {
        "id": "dnfdCK6Fqtls"
      }
    },
    {
      "cell_type": "markdown",
      "source": [
        "Now it is time to create your neural network model from scratch! You eventually need to integrate everything into scikit-learn's pipeline, so it's important to have an appropriate class structure. To do this, you may need to extend `BaseEstimator` and `TransformerMixin` to make scikit-learn recognize that your class is a valid classifier.\n",
        "\n",
        "You are going to develop a neural network with one layer for simplicity. That means you will have two different sets of weights.\n",
        "\n",
        "- First layer: [input size (number of features), hidden layer size]\n",
        "- Second layer (or output layer): [hidden layer size, output size (number of classes)]\n",
        "\n",
        "In the class structure `FullyConnectedNetwork` below, you will develop five different methods as follows:\n",
        " - `compile`: Given parameters, this function will initialize weight and bias values needed for our neural network model.\n",
        "   - Here, you will initialize bias and weights based on a chosen initialization technique.\n",
        "        - You need to implement three different options: normal, Xavier, and he\n",
        "        - Each technique initializes the weight using the normal distribution but different standard deviation. The mean value remains the same.\n",
        "          - Normal:\n",
        "$ \\mu = 0, \\sigma = 0.1 $\n",
        "          - Xavier:\n",
        "$ \\mu = 0, \\sigma = \\sqrt{\\frac{2}{n_{in} + n_{out}}}$\n",
        "          - He:\n",
        "$ \\mu = 0, \\sigma = \\sqrt{\\frac{2}{n_{in}}}$\n",
        " - `forward`: Perform a forward propagation with the weights saved in the model.\n",
        " - `back_propagation`: Perform a back propagation (training the model).\n",
        "    - Most of the derivative terms are already provided. You will only need to finish some part of it.\n",
        "      - Weight and bias update\n",
        "      - Derivative of the sigmoid function\n",
        "        - $σ(x)=σ(x)(1−σ(x))$.\n",
        "\n",
        " - `fit`: Run the whole fitting process (forward and backpropagation for each batch).\n",
        " - `cost`: Calculate the cost (cross-entropy) together with the elastic net (l1/l2). The fomula is described in the function.\n",
        " - `predict`: With a trained model, perform a prediction of unseen data by running the forward propagation with the trained weight and bias.\n",
        " - `evaluate`: With trained weight and bias, perform a prediction of test data and calculate the performance metric (in our case, those are training and validation accuracy scores).\n",
        "\n",
        "**This exercise is based on *Chapter 12* of the coursebook Python Machine Learning with some modification and additional tasks - so please note that the structure and requirements are not the same.**\n",
        "\n",
        "You are free to check out the coursebook for reference. However, to solve the tasks, you should understand the logic clearly."
      ],
      "metadata": {
        "id": "Sn2YtPQk0pXK"
      }
    },
    {
      "cell_type": "code",
      "source": [
        "class FullyConnectedNetwork(BaseEstimator, TransformerMixin):\n",
        "    def __init__(self, n_hidden=30, l2=0., l1=0., epochs=100, eta=0.001, validation_rate = 0.3,\n",
        "                 shuffle=True, batch_size=1, init_technique = \"normal\", seed=None, debug=True):\n",
        "\n",
        "        \"\"\"\n",
        "        The class structure receive the following parameters to construct and test the model:\n",
        "\n",
        "        Input:\n",
        "          - n_hidden: Number of hidden nodes.\n",
        "          - l2: Lambda value for L2-regularization.\n",
        "          - l1: Lambda value for L1-regularization.\n",
        "          - epochs: Number of passes over the training set.\n",
        "          - eta: Learning rate.\n",
        "          - validation_rate: size of the validation set.\n",
        "          - shuffle: Enabling shuffling option of the dataset every epoch.\n",
        "          - batch_size: Number of training examples per batch.\n",
        "          - init_technique: Indicator for an initialization technique.\n",
        "          - seed: Random seed for initializing weights and shuffling.\n",
        "        \"\"\"\n",
        "        self.seed = seed\n",
        "        self.random = np.random.default_rng(seed)\n",
        "\n",
        "        self.n_hidden = n_hidden\n",
        "        self.l2 = l2\n",
        "        self.l1 = l1\n",
        "        self.epochs = epochs\n",
        "        self.eta = eta\n",
        "        self.validation_rate = validation_rate\n",
        "        self.shuffle = shuffle\n",
        "        self.batch_size = batch_size\n",
        "        self.debug = debug\n",
        "        self.init_technique = init_technique\n",
        "\n",
        "    def compile(self, n_features, n_outputs):\n",
        "        \"\"\"\n",
        "        Initializing the weights of the model\n",
        "\n",
        "        - Here you will initialize bias and weights based on chosen initialization technique.\n",
        "        - The classifier has three different options: normal, xavier, and he\n",
        "        - Each technique initializes the weight using the normal distribution but different standard deviation.\n",
        "        - Use self.init_technique to check the chosen technique and use self.random to perform the sampling.\n",
        "\n",
        "        Input:\n",
        "          - n_features: input size of the network\n",
        "          - n_outputs: output size of the network\n",
        "          - Unit size of the layer is given as self.n_hidden\n",
        "\n",
        "        Steps:\n",
        "          1. Check if you have created self.random using NumPy's random number generator.\n",
        "             You will use this generator throughout this function.\n",
        "          2. Create lists self.W and self.B which will keep the weight values for each layer.\n",
        "          3. Set mean and standard deviation for different initialization technique.\n",
        "          4. Create weights and bias for the linkage between inputs and the first layer.\n",
        "            - Weight should have the size [n_features, self.n_hidden].\n",
        "            - Bias should have the size [self.n_hidden].\n",
        "            - Weight initialization should be applied to the weights only.\n",
        "            - Bias should be initizalied by zeros.\n",
        "          5. Create weights and bias for the linkage between the first layer and the output layer.\n",
        "            - Weight should have the size [self.n_hidden, n_outputs].\n",
        "            - Bias should have the size [n_outputs].\n",
        "            - Weight initialization should be applied to the weights only.\n",
        "            - Bias should be initizalied by zeros.\n",
        "          5. Save the weights to self.W and biases to self.B. Each list should have two elements for each layer.\n",
        "\n",
        "          WARNING! It is strictly required to use \"np.random.default_rng\" to generate random numbers.\n",
        "        \"\"\"\n",
        "        self.B = []\n",
        "        self.W = []\n",
        "\n",
        "        if self.init_technique == \"normal\":\n",
        "            var_h = 0.1\n",
        "        elif self.init_technique == \"xavier\":\n",
        "            var_h = np.sqrt(2 / (n_features + self.n_hidden))\n",
        "        elif self.init_technique == \"he\":\n",
        "            var_h = np.sqrt(2 / n_features)\n",
        "        w_h = self.random.normal(loc=0, scale=var_h, size=(n_features, self.n_hidden))\n",
        "        b_h = np.zeros(self.n_hidden)\n",
        "\n",
        "        self.B.append(b_h)\n",
        "        self.W.append(w_h)\n",
        "\n",
        "        if self.init_technique == \"normal\":\n",
        "            var_out = 0.1\n",
        "        elif self.init_technique == \"xavier\":\n",
        "            var_out = np.sqrt(2 / (self.n_hidden + n_outputs))\n",
        "        elif self.init_technique == \"he\":\n",
        "            var_out = np.sqrt(2 / self.n_hidden)\n",
        "        w_out = self.random.normal(loc=0, scale=var_out, size=(self.n_hidden, n_outputs))\n",
        "        b_out = np.zeros(n_outputs)\n",
        "\n",
        "        self.B.append(b_out)\n",
        "        self.W.append(w_out)\n",
        "    def forward(self, X):\n",
        "        \"\"\"\n",
        "        Given the dataset X, compute forward propagation step with the weights and bias saved in the list.\n",
        "        This process eventually outputs ten numbers in our case as the dataset has ten outputs.\n",
        "        (Please refer to the lecture slides for detailed computation process)\n",
        "        Forward propagation is performed by multiple chained dot products of inputs and weights.\n",
        "\n",
        "        Input:\n",
        "          - X: features\n",
        "\n",
        "        Output:\n",
        "          - Z: Result of dot product of the weights and the previous output for each phase\n",
        "          - A: A list that contains sigmoided values of A\n",
        "        Steps:\n",
        "          1. Create two lists Z and A.\n",
        "          2. Take a dot product of X and the first weight self.W[0] - save the result into Z\n",
        "          3. Apply sigmoid function to the first Z - save the result into A\n",
        "          4. Take a dot product of A and the second weight self.W[1] - save the result into Z\n",
        "          5. Apply sigmoid function to the second Z - save the result into A\n",
        "          6. Return Z and A\n",
        "\n",
        "        WARNING! Be careful when you multiply two matrices - think about which rows you are multiplying.\n",
        "                 Wrong order in .dot() function can lead completely wrong result.\n",
        "        \"\"\"\n",
        "\n",
        "        Z = []\n",
        "        A = []\n",
        "\n",
        "        Z.append(np.dot(X, self.W[0]) + self.B[0])\n",
        "\n",
        "        A.append(sigmoid(Z[0]))\n",
        "\n",
        "        Z.append(np.dot(A[0], self.W[1]) + self.B[1])\n",
        "\n",
        "        A.append(sigmoid(Z[1]))\n",
        "\n",
        "        return Z, A\n",
        "\n",
        "    def predict(self, X):\n",
        "        \"\"\"\n",
        "\n",
        "        Predict class labels by performing forward propagation.\n",
        "\n",
        "        Input:\n",
        "          - X: Feature matrix.\n",
        "        Output:\n",
        "          - y_pred: Predicted class labels for all data instances.\n",
        "\n",
        "        Steps:\n",
        "          1. Run forward proparation on X and get Z, a.\n",
        "          2. Calculate y_pred by using the final output (A[-1]) and with np.argmax\n",
        "            - You have to choose the index of the one with the highest value, which means the highest probability.\n",
        "          3. Return the prediction. You SHOULD perform the operation using NumPy's vectorization feature.\n",
        "             This means that if you put many instances at once as an input, this function should calculate the result also at once.\n",
        "\n",
        "        \"\"\"\n",
        "        _, A = self.forward(X)\n",
        "        y_pred = np.argmax(A[-1], axis=1)\n",
        "\n",
        "        return y_pred\n",
        "\n",
        "    def cost(self, y_truth, y_pred):\n",
        "        \"\"\"\n",
        "\n",
        "        This function computes the cost for the classification task.\n",
        "        The network supports Elastic net (combination of l1 and l2 with corresponding weights).\n",
        "\n",
        "        Input:\n",
        "          - y_truth: \"One-hot encoded\" class labels.\n",
        "          - y_pred: Activation of the output layer (= output of the forward propagation function).\n",
        "          - The weights for l1 and l2 are saved into self.l1 and self.l2.\n",
        "\n",
        "        Output:\n",
        "          - cost: Regularized cost\n",
        "\n",
        "        Steps:\n",
        "          1. Calculate the cross entropy between the truth (y) and predicted values (y*).\n",
        "             - y * log(y*) - (1 - y) * log(1 - y*)\n",
        "          2. Add l1 and l2 terms to the cost.\n",
        "            - L1 term is the sum of absolute weight values.\n",
        "            - L2 term is the sum of squared weight values.\n",
        "            - You should multiply l1 and l2 ratio saved in self.l1 and self.l2 (this will decide the degree of regularization).\n",
        "            - You should NOT include weights that belong to the bias values.\n",
        "          3. Return the total cost (cross entropy + L1 term + L2 term).\n",
        "\n",
        "        \"\"\"\n",
        "        cross_entropy = -np.sum(y_truth * np.log(y_pred) + (1 - y_truth) * np.log(1 - y_pred))\n",
        "\n",
        "        l1_term = self.l1 * np.sum(np.abs(self.W[0]))\n",
        "        l2_term = self.l2 * np.sum(self.W[0] ** 2)\n",
        "\n",
        "        cost = cross_entropy + l1_term + l2_term\n",
        "        return cost\n",
        "\n",
        "\n",
        "\n",
        "    def back_propagation(self, X_train, batch_idx, A, y_truth):\n",
        "      \"\"\"\n",
        "      Perform back propagation based on the result of forward propagation and true labels (for each batch).\n",
        "\n",
        "      Input:\n",
        "        X_train: Training features.\n",
        "        batch_idx: The current batch indices from the fit function.\n",
        "        A: Sigmoided output values - the result of forward propagation.\n",
        "        y_truth: One-hot encoded true labels.\n",
        "\n",
        "      Output:\n",
        "        None\n",
        "        You should update the weights and biases in self.W/self.B\n",
        "\n",
        "      **** You only need to fill in some required parts marked as \"CHANGE THIS PART\" ****\n",
        "      **** To get more information about the backpropagation process:\n",
        "           https://towardsdatascience.com/deriving-backpropagation-with-cross-entropy-loss-d24811edeaf9 ****\n",
        "      \"\"\"\n",
        "\n",
        "      delta_out = A[-1] - y_truth[batch_idx]\n",
        "      grad_w_out = np.dot(A[0].T, delta_out)\n",
        "      grad_b_out = np.sum(delta_out, axis=0)\n",
        "\n",
        "      delta_w_out = grad_w_out + self.l2 * self.W[1] + self.l1 * np.sign(self.W[1])\n",
        "      delta_b_out = grad_b_out\n",
        "      self.W[1] -= self.eta * delta_w_out\n",
        "      self.B[1] -= self.eta * delta_b_out\n",
        "\n",
        "      sigmoid_derivative_h = A[0] * (1 - A[0])\n",
        "\n",
        "\n",
        "      delta_h = (np.dot(delta_out, self.W[1].T) * sigmoid_derivative_h)\n",
        "      grad_w_h = np.dot(X_train[batch_idx].T, delta_h)\n",
        "      grad_b_h = np.sum(delta_h, axis=0)\n",
        "\n",
        "      delta_w_h = grad_w_h + self.l2 * self.W[0] + self.l1 * np.sign(self.W[0])\n",
        "      delta_b_h = grad_b_h\n",
        "\n",
        "      self.W[0] -= self.eta * delta_w_h\n",
        "      self.B[0] -= self.eta * delta_b_h\n",
        "\n",
        "\n",
        "\n",
        "\n",
        "    def evaluate(self, epoch, X_train, X_valid, y_train, y_valid):\n",
        "      \"\"\"\n",
        "      Evaluate performances on the training and validation sets per epoch\n",
        "\n",
        "      Input:\n",
        "        - epoch: Current epoch number.\n",
        "        - X_train: Training features\n",
        "        - X_valid: Validation features\n",
        "        - y_train: Training labels\n",
        "        - y_valid: Validation labels\n",
        "\n",
        "      Output:\n",
        "        - None\n",
        "        Append the cost and performance metrics of current epoch to self.history\n",
        "      \"\"\"\n",
        "\n",
        "\n",
        "      Z, A = self.forward(X_train)\n",
        "\n",
        "      y_train_pred = self.predict(X_train)\n",
        "      y_valid_pred = self.predict(X_valid)\n",
        "\n",
        "      cost = self.cost(one_hot(y_train), A[-1])\n",
        "\n",
        "      train_acc = np.mean(y_train_pred == y_train)\n",
        "      valid_acc = np.mean(y_valid_pred == y_valid)\n",
        "\n",
        "      if self.debug == True:\n",
        "        print('%d/%d | Cost: %.2f '\n",
        "                        '| Train/Valid Acc.: %.2f%%/%.2f%% ' %\n",
        "                        (epoch+1, self.epochs, cost,\n",
        "                          train_acc*100, valid_acc*100))\n",
        "\n",
        "      self.history['cost'].append(cost)\n",
        "      self.history['train_acc'].append(train_acc)\n",
        "      self.history['valid_acc'].append(valid_acc)\n",
        "\n",
        "\n",
        "    def fit(self, X, y):\n",
        "        \"\"\"\n",
        "\n",
        "        Learn weights from training data.\n",
        "\n",
        "        Input\n",
        "          - X: features (training+validation)\n",
        "          - y: labels\n",
        "\n",
        "        Output\n",
        "          - self.history: information about cost and accuracy scores\n",
        "\n",
        "        \"\"\"\n",
        "\n",
        "        self.history = {'cost': [], 'train_acc': [], 'valid_acc': []}\n",
        "\n",
        "        X_train, X_valid, y_train, y_valid = train_test_split(X, y, test_size=self.validation_rate, stratify=y)\n",
        "\n",
        "        self.compile(X_train.shape[1], len(np.unique(y)))\n",
        "\n",
        "        y_train_enc = one_hot(y_train)\n",
        "\n",
        "        for i in range(self.epochs):\n",
        "\n",
        "            indices = np.arange(X_train.shape[0])\n",
        "            if self.shuffle:\n",
        "              self.random.shuffle(indices)\n",
        "\n",
        "            for start_idx in range(0, indices.shape[0] - self.batch_size +\n",
        "                                   1, self.batch_size):\n",
        "                batch_idx = indices[start_idx:start_idx + self.batch_size]\n",
        "\n",
        "                Z, A = self.forward(X_train[batch_idx])\n",
        "\n",
        "                self.back_propagation(X_train, batch_idx, A, y_train_enc)\n",
        "\n",
        "            self.evaluate(i, X_train, X_valid, y_train, y_valid)\n",
        "\n",
        "        return self.history\n",
        "\n",
        "    def transform(self, X, y=None):\n",
        "      \"\"\"\n",
        "      Do not need to complete this function.\n",
        "      Leave as it is!\n",
        "      \"\"\"\n",
        "      return self.history\n",
        "\n",
        "    def score(self, X, y=None):\n",
        "      \"\"\"\n",
        "      Score function for pipeline\n",
        "      Leave as it is!\n",
        "      \"\"\"\n",
        "      y_pred = self.predict(X)\n",
        "      acc = np.sum(y == y_pred) / X.shape[0]\n",
        "      return acc"
      ],
      "metadata": {
        "id": "UxEdUv9hmiTd"
      },
      "execution_count": null,
      "outputs": []
    },
    {
      "cell_type": "markdown",
      "source": [
        "After you finish developing the methods in the class structure, you can create a new instance by calling 'FullyConnectedNetwork' class. Create your model using the following parameters:\n",
        "\n",
        "- n_hidden = 150\n",
        "- l2 = 0.01\n",
        "- epochs = 30\n",
        "- eta = 0.001\n",
        "- batch_size = 50\n",
        "- shuffle = True\n",
        "- seed = `RANDOM_STATE`"
      ],
      "metadata": {
        "id": "4QAzKAjhhwHu"
      }
    },
    {
      "cell_type": "code",
      "source": [
        "nn = FullyConnectedNetwork(n_hidden=150, l2=0.01, epochs=30, eta=0.001, batch_size=50, shuffle=True, seed=RANDOM_STATE)"
      ],
      "metadata": {
        "id": "pEkq3fydrmVw"
      },
      "execution_count": null,
      "outputs": []
    },
    {
      "cell_type": "markdown",
      "source": [
        "Then the fit methods will run the model for 30 epochs, and depending on your computing power, it might take a few minutes to an hour.\n",
        " - Fit your network on `X_train` and `y_train` and save the output to `history`."
      ],
      "metadata": {
        "id": "IXBBoj_oh5Vt"
      }
    },
    {
      "cell_type": "code",
      "source": [
        "history = nn.fit(X_train, y_train)"
      ],
      "metadata": {
        "id": "uSKfzn3czNrU",
        "colab": {
          "base_uri": "https://localhost:8080/"
        },
        "outputId": "f41c2794-dd7f-4cef-ae6f-a34653836a52"
      },
      "execution_count": null,
      "outputs": [
        {
          "output_type": "stream",
          "name": "stdout",
          "text": [
            "1/30 | Cost: 46873.64 | Train/Valid Acc.: 84.91%/85.04% \n",
            "2/30 | Cost: 35586.64 | Train/Valid Acc.: 87.90%/87.85% \n",
            "3/30 | Cost: 30841.12 | Train/Valid Acc.: 89.32%/89.37% \n",
            "4/30 | Cost: 28149.25 | Train/Valid Acc.: 90.08%/90.02% \n",
            "5/30 | Cost: 26435.45 | Train/Valid Acc.: 90.48%/90.38% \n",
            "6/30 | Cost: 24897.50 | Train/Valid Acc.: 91.12%/90.95% \n",
            "7/30 | Cost: 23788.20 | Train/Valid Acc.: 91.51%/91.42% \n",
            "8/30 | Cost: 22777.07 | Train/Valid Acc.: 91.92%/91.75% \n",
            "9/30 | Cost: 21896.10 | Train/Valid Acc.: 92.13%/91.99% \n",
            "10/30 | Cost: 21084.86 | Train/Valid Acc.: 92.57%/92.24% \n",
            "11/30 | Cost: 20372.24 | Train/Valid Acc.: 92.73%/92.58% \n",
            "12/30 | Cost: 19784.76 | Train/Valid Acc.: 93.03%/92.64% \n",
            "13/30 | Cost: 19091.76 | Train/Valid Acc.: 93.16%/92.89% \n",
            "14/30 | Cost: 18459.57 | Train/Valid Acc.: 93.51%/93.04% \n",
            "15/30 | Cost: 17999.79 | Train/Valid Acc.: 93.70%/93.32% \n",
            "16/30 | Cost: 17462.01 | Train/Valid Acc.: 93.91%/93.52% \n",
            "17/30 | Cost: 17088.45 | Train/Valid Acc.: 93.99%/93.65% \n",
            "18/30 | Cost: 16648.15 | Train/Valid Acc.: 94.19%/93.79% \n",
            "19/30 | Cost: 16248.93 | Train/Valid Acc.: 94.29%/93.91% \n",
            "20/30 | Cost: 15865.53 | Train/Valid Acc.: 94.47%/94.10% \n",
            "21/30 | Cost: 15518.24 | Train/Valid Acc.: 94.61%/94.17% \n",
            "22/30 | Cost: 15276.86 | Train/Valid Acc.: 94.66%/94.21% \n",
            "23/30 | Cost: 14858.87 | Train/Valid Acc.: 94.84%/94.45% \n",
            "24/30 | Cost: 14565.43 | Train/Valid Acc.: 94.97%/94.49% \n",
            "25/30 | Cost: 14339.69 | Train/Valid Acc.: 95.04%/94.68% \n",
            "26/30 | Cost: 14024.47 | Train/Valid Acc.: 95.19%/94.74% \n",
            "27/30 | Cost: 13874.63 | Train/Valid Acc.: 95.19%/94.71% \n",
            "28/30 | Cost: 13551.54 | Train/Valid Acc.: 95.37%/94.89% \n",
            "29/30 | Cost: 13311.12 | Train/Valid Acc.: 95.41%/94.95% \n",
            "30/30 | Cost: 13065.87 | Train/Valid Acc.: 95.55%/95.09% \n"
          ]
        }
      ]
    },
    {
      "cell_type": "markdown",
      "source": [
        "After the training is done, you should be able to plot the training and validation accuracy scores over time using the `history` dictionary returned by the fit function."
      ],
      "metadata": {
        "id": "EGuc6mti3lIp"
      }
    },
    {
      "cell_type": "code",
      "source": [
        "plt.plot(history['train_acc'])\n",
        "plt.plot(history['valid_acc'])\n",
        "plt.show()"
      ],
      "metadata": {
        "id": "n79B9p-OzPIA",
        "colab": {
          "base_uri": "https://localhost:8080/",
          "height": 433
        },
        "outputId": "ae77e55f-209d-4f32-fab4-a6bc32be8eec"
      },
      "execution_count": null,
      "outputs": [
        {
          "output_type": "display_data",
          "data": {
            "text/plain": [
              "<Figure size 640x480 with 1 Axes>"
            ],
            "image/png": "[encoded data removed]"
          },
          "metadata": {}
        }
      ]
    },
    {
      "cell_type": "markdown",
      "source": [
        "## 4. Integrate our classifier into the scikit-learn pipeline and the randomized search"
      ],
      "metadata": {
        "id": "rPA_LeMzqyFc"
      }
    },
    {
      "cell_type": "markdown",
      "source": [
        "This time, you can use the same strategy as the second lab, trying to integrate everything from the raw dataset to the performance metrics into scikit-learn pipeline.\n",
        "\n",
        "- Task 1: Create a `Normalizer` class that extends BaseEstimator and TransformerMixin.\n",
        " - Your normalizer should do the following job:\n",
        "   - Normalizer: To make the features have the range [0, 1] and also **center the points to zero by subtracting 0.5 from the values.**\n",
        "   - Use NumPy's broadcasting to calculate (X / 255) - 0.5.\n",
        "\n",
        "\n",
        "- Task 2: Create a pipeline that integrates both normalizer and your neural network classifier.\n",
        "  - Your pipeline should contain the following modules.\n",
        "    - 'normalizer': Normalizer class\n",
        "    - 'classifier': `FullyConnectedNetwork` with default parameters but with epochs=10.\n",
        "\n",
        "- Task 3: Fit your pipeline on the datasets (`X_train`, `y_train`).\n",
        "  - You should **not** use `X_normalized` this time as the normalizer is now part of your pipeline. This means you might need to split your dataset again with `train_test_split` by using `X` and `y_integer`. Turn on stratification, and set `test_size` = 20%.\n",
        "  - Fit your pipeline and report the test score on `X_test` and `y_test` to `pipeline_score`."
      ],
      "metadata": {
        "id": "SP7V3OjInmQM"
      }
    },
    {
      "cell_type": "code",
      "source": [
        "# Create: class Normalizer(BaseEstimator, TransformerMixin)\n",
        "#\n",
        "#\n",
        "class Normalizer(BaseEstimator, TransformerMixin):\n",
        "    def fit(self, X, y=None):\n",
        "        return self\n",
        "\n",
        "    def transform(self, X):\n",
        "        return (X / 255) - 0.5\n",
        "\n",
        "pipe =  Pipeline([\n",
        "    ('normalizer', Normalizer()),\n",
        "    ('classifier', FullyConnectedNetwork(epochs=10))\n",
        "])\n",
        "\n",
        "X_train, X_test, y_train, y_test = train_test_split(X, y_integer, test_size=0.2, stratify=y_integer, random_state=RANDOM_STATE)\n",
        "\n",
        "pipe.fit(X_train, y_train)\n",
        "y_pred = pipe.predict(X_test)\n"
      ],
      "metadata": {
        "id": "7KQyD1cf1Na8",
        "colab": {
          "base_uri": "https://localhost:8080/"
        },
        "outputId": "43e0e701-ae05-4fd0-9236-2b4573755e84"
      },
      "execution_count": null,
      "outputs": [
        {
          "output_type": "stream",
          "name": "stdout",
          "text": [
            "1/10 | Cost: 71127.34 | Train/Valid Acc.: 75.97%/75.46% \n",
            "2/10 | Cost: 46221.25 | Train/Valid Acc.: 85.58%/85.24% \n",
            "3/10 | Cost: 36504.79 | Train/Valid Acc.: 88.31%/87.86% \n",
            "4/10 | Cost: 31539.34 | Train/Valid Acc.: 89.29%/88.80% \n",
            "5/10 | Cost: 28793.79 | Train/Valid Acc.: 89.81%/89.29% \n",
            "6/10 | Cost: 26373.06 | Train/Valid Acc.: 90.48%/90.27% \n",
            "7/10 | Cost: 24912.98 | Train/Valid Acc.: 90.96%/90.68% \n",
            "8/10 | Cost: 23779.30 | Train/Valid Acc.: 91.25%/91.05% \n",
            "9/10 | Cost: 22739.11 | Train/Valid Acc.: 91.67%/91.42% \n",
            "10/10 | Cost: 22078.35 | Train/Valid Acc.: 91.88%/91.53% \n"
          ]
        }
      ]
    },
    {
      "cell_type": "code",
      "source": [
        "pipeline_score =   pipe.score(X_test, y_test)"
      ],
      "metadata": {
        "id": "tQRQASa5bz89"
      },
      "execution_count": null,
      "outputs": []
    },
    {
      "cell_type": "code",
      "source": [
        "# PRINT YOUR SCORE HERE\n",
        "print(pipeline_score)"
      ],
      "metadata": {
        "id": "Lcykfo9x6zY8",
        "colab": {
          "base_uri": "https://localhost:8080/"
        },
        "outputId": "de8e67f3-9aec-4f5d-fe94-db7e06ea4dbb"
      },
      "execution_count": null,
      "outputs": [
        {
          "output_type": "stream",
          "name": "stdout",
          "text": [
            "0.9129285714285714\n"
          ]
        }
      ]
    },
    {
      "cell_type": "markdown",
      "source": [
        "- Task 4: Randomized search\n",
        "  - After constructing your pipeline, you can perform a randomized search on it.\n",
        "  - Define your parameter grid with the following information. Use `np.arange` if neccesary:\n",
        "    - l1 of classifier: 0 to 0.01 (included) with step size 0.002.\n",
        "    - l2 of classifier: 0 to 0.01 (included) with step size 0.002.\n",
        "    - size of hidden layer of classifier: 20 to 100 with step size 10\n",
        "    - learning rate of classifier: 0.0001 to 0.001 with step size 0.0001\n",
        "    - initialization techniques of classifier: [normal, xavier, he]\n",
        "  - Run your randomized search with cv=3. Fit it on your previous `X_train` and `y_train`.\n",
        "    - Make 10 different attempts.\n",
        "    - Set `random_state` = `RANDOM_STATE`\n",
        "  - Report your best classifier and best score into the variables `best_classifier` and `best_score`.\n",
        "\n",
        "  - **Note that this task will take a few hours based on computing power, so you may not need to finish the run. The submission is regarded correct if the logic is correct - if you cannot finish the task before the submission.**"
      ],
      "metadata": {
        "id": "nMdqSR8k4hRI"
      }
    },
    {
      "cell_type": "code",
      "source": [
        "parameters  = {\n",
        "    'normalizer': Normalizer(),\n",
        "    'classifier': FullyConnectedNetwork(epochs=10)\n",
        "}\n",
        "\n",
        "grid  = {\n",
        "    'classifier__l1': np.arange(0, 0.011, 0.002),\n",
        "    'classifier__l2': np.arange(0, 0.011, 0.002),\n",
        "    'classifier__n_hidden': np.arange(20, 101, 10),\n",
        "    'classifier__eta': np.arange(0.0001, 0.0011, 0.0001),\n",
        "    'classifier__init_technique': ['normal', 'xavier', 'he']\n",
        "}\n",
        "\n",
        "random_search = RandomizedSearchCV(estimator=pipe, param_distributions=grid, n_iter=10, cv=3, random_state=RANDOM_STATE)\n",
        "random_search.fit(X_train, y_train)\n",
        "\n",
        "best_classifier = random_search.best_estimator_\n",
        "best_score = random_search.best_score_"
      ],
      "metadata": {
        "id": "rysn4lmhmpBb"
      },
      "execution_count": null,
      "outputs": []
    },
    {
      "cell_type": "code",
      "source": [
        "print(best_classifier, best_score)"
      ],
      "metadata": {
        "id": "Zisqj2Qk6318"
      },
      "execution_count": null,
      "outputs": []
    },
    {
      "cell_type": "markdown",
      "source": [
        "# END"
      ],
      "metadata": {
        "id": "w9gSkzvszU1K"
      }
    }
  ]
}